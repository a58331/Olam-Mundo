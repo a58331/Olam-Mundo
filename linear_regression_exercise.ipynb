{
  "cells": [
    {
      "cell_type": "markdown",
      "source": [
        "[![Open In Colab](https://colab.research.google.com/assets/colab-badge.svg)](https://colab.research.google.com/github/xiptos/is_notes/blob/main/linear_regression_exercise.ipynb)"
      ],
      "metadata": {
        "collapsed": false,
        "id": "9c6fc278dd689010"
      },
      "id": "9c6fc278dd689010"
    },
    {
      "cell_type": "markdown",
      "source": [
        "# Multiple variable linear regression\n",
        "\n",
        "This exercise is an introduction to multiple linear regression, using the wine quality dataset."
      ],
      "metadata": {
        "collapsed": false,
        "id": "1e2d22d0-33dd-4ea1-933c-07e24a94dac0"
      },
      "id": "1e2d22d0-33dd-4ea1-933c-07e24a94dac0"
    },
    {
      "cell_type": "markdown",
      "id": "4b66ef95-99fa-4ab3-9d9e-b8f13a3d4d12",
      "metadata": {
        "id": "4b66ef95-99fa-4ab3-9d9e-b8f13a3d4d12"
      },
      "source": [
        "## Dataset\n",
        "\n",
        "Loading the dataset"
      ]
    },
    {
      "cell_type": "code",
      "execution_count": null,
      "outputs": [],
      "source": [
        "!pip install wget\n",
        "!python -m wget -o winequality-red.csv \"https://archive.ics.uci.edu/ml/machine-learning-databases/wine-quality/winequality-red.csv\""
      ],
      "metadata": {
        "id": "bf60f07dfa73b820"
      },
      "id": "bf60f07dfa73b820"
    },
    {
      "cell_type": "code",
      "execution_count": null,
      "outputs": [],
      "source": [
        "# ---------------------------\n",
        "# IMPORTS\n",
        "# ---------------------------\n",
        "import pandas as pd\n",
        "from google.colab import files\n",
        "import logging\n",
        "\n",
        "# ---------------------------\n",
        "# CONFIGURAÇÃO DE LOG\n",
        "# ---------------------------\n",
        "logging.basicConfig(\n",
        "    level=logging.INFO,\n",
        "    format='%(asctime)s - %(levelname)s - %(message)s'\n",
        ")\n",
        "\n",
        "# ---------------------------\n",
        "# ETAPA 1: EXTRAÇÃO\n",
        "# ---------------------------\n",
        "def extract_excel():\n",
        "    uploaded = files.upload()  # Abre seletor para escolher arquivo\n",
        "    file_name = list(uploaded.keys())[0]  # Pega o nome do arquivo enviado\n",
        "    logging.info(f\"Arquivo carregado: {energy-and-mining_cpv}\")\n",
        "\n",
        "    # Lê todas as planilhas\n",
        "    df = pd.read_excel(file_name)\n",
        "    logging.info(f\"Dados extraídos com {len(df)} linhas e {len(df.columns)} colunas\")\n",
        "    return df, file_name\n",
        "\n",
        "# ---------------------------\n",
        "# ETAPA 2: TRANSFORMAÇÃO\n",
        "# ---------------------------\n",
        "def transform(df):\n",
        "    logging.info(\"Iniciando transformação dos dados...\")\n",
        "\n",
        "    # Exemplo de transformações comuns:\n",
        "    # Remove duplicatas\n",
        "    df = df.drop_duplicates()\n",
        "\n",
        "    # Preencher valores nulos (exemplo coluna 'idade')\n",
        "    if 'idade' in df.columns:\n",
        "        df['idade'] = df['idade'].fillna(df['idade'].median())\n",
        "\n",
        "    # Criar coluna derivada\n",
        "    if 'idade' in df.columns:\n",
        "        df['idade_categoria'] = df['idade'].apply(lambda x: 'Jovem' if x < 30 else 'Adulto')\n",
        "\n",
        "    # Filtrar apenas registros ativos\n",
        "    if 'ativo' in df.columns:\n",
        "        df = df[df['ativo'] == True]\n",
        "\n",
        "    logging.info(f\"Transformação concluída: {len(df)} linhas após filtragem\")\n",
        "    return df\n",
        "\n",
        "# ---------------------------\n",
        "# ETAPA 3: CARGA\n",
        "# ---------------------------\n",
        "def load(df, original_file_name):\n",
        "    output_file = original_file_name.replace('.xlsx', '_tratados.xlsx')\n",
        "    df.to_excel(output_file, index=False)\n",
        "    logging.info(f\"Arquivo transformado salvo: {output_file}\")\n",
        "\n",
        "    # Permite download direto do Colab\n",
        "    files.download(output_file)\n",
        "\n",
        "# ---------------------------\n",
        "# PIPELINE COMPLETO\n",
        "# ---------------------------\n",
        "def etl_pipeline():\n",
        "    df, file_name = extract_excel()\n",
        "    df_transformed = transform(df)\n",
        "    load(df_transformed, file_name)\n",
        "\n",
        "# ---------------------------\n",
        "# EXECUÇÃO\n",
        "# ---------------------------\n",
        "if __name__ == \"__main__\":\n",
        "    etl_pipeline()\n"
      ],
      "metadata": {
        "id": "68f89b71-948a-4b56-8d5f-42b4fc1bf84b"
      },
      "id": "68f89b71-948a-4b56-8d5f-42b4fc1bf84b"
    },
    {
      "cell_type": "markdown",
      "id": "6ee82de3-52bc-44b5-ac6b-3bae646b3d4f",
      "metadata": {
        "id": "6ee82de3-52bc-44b5-ac6b-3bae646b3d4f"
      },
      "source": [
        "### Understanding of the dataset\n",
        "\n",
        "After loading the dataset, it is necessary to understand what it means and what kind of data is available.\n",
        "\n",
        "Explore the dataset using pandas [`DataFrame`](https://pandas.pydata.org/pandas-docs/stable/reference/api/pandas.DataFrame.html) [`head()`](https://pandas.pydata.org/pandas-docs/stable/reference/api/pandas.DataFrame.head.html) function."
      ]
    },
    {
      "cell_type": "code",
      "execution_count": null,
      "id": "1e7dd9c2-a616-474b-a4f4-cec02c158556",
      "metadata": {
        "id": "1e7dd9c2-a616-474b-a4f4-cec02c158556"
      },
      "outputs": [],
      "source": [
        "# Print a sample of the dataset\n"
      ]
    },
    {
      "cell_type": "markdown",
      "id": "83f42563-059b-4f29-b0f0-50f9d679a63a",
      "metadata": {
        "id": "83f42563-059b-4f29-b0f0-50f9d679a63a"
      },
      "source": [
        "Also check the [`shape`](https://pandas.pydata.org/pandas-docs/stable/reference/api/pandas.DataFrame.shape.html) and get some [descriptive statistics](https://pandas.pydata.org/pandas-docs/stable/reference/api/pandas.DataFrame.describe.html)."
      ]
    },
    {
      "cell_type": "code",
      "execution_count": null,
      "id": "c13fdb00-1637-4955-a0c9-6f97c4a44a40",
      "metadata": {
        "id": "c13fdb00-1637-4955-a0c9-6f97c4a44a40"
      },
      "outputs": [],
      "source": [
        "# check original shape\n"
      ]
    },
    {
      "cell_type": "code",
      "execution_count": null,
      "id": "851ef591-c6f9-48f6-a47b-ddac761dfa94",
      "metadata": {
        "id": "851ef591-c6f9-48f6-a47b-ddac761dfa94"
      },
      "outputs": [],
      "source": [
        "# Descriptive statistics\n"
      ]
    },
    {
      "cell_type": "markdown",
      "id": "c8aeac44-50a9-43da-93c2-af849ba334a6",
      "metadata": {
        "id": "c8aeac44-50a9-43da-93c2-af849ba334a6"
      },
      "source": [
        "Finally, get information about the dataset using [`info`](https://pandas.pydata.org/pandas-docs/stable/reference/api/pandas.DataFrame.info.html)."
      ]
    },
    {
      "cell_type": "code",
      "execution_count": null,
      "id": "f1211476-85b5-4b01-bbd6-879c038aba61",
      "metadata": {
        "id": "f1211476-85b5-4b01-bbd6-879c038aba61"
      },
      "outputs": [],
      "source": [
        "# information about the dataset\n"
      ]
    },
    {
      "cell_type": "markdown",
      "id": "6e5928e0-b8b9-4cc0-abb0-61274ce1e70d",
      "metadata": {
        "id": "6e5928e0-b8b9-4cc0-abb0-61274ce1e70d"
      },
      "source": [
        "Let's check for the existance of null values."
      ]
    },
    {
      "cell_type": "code",
      "execution_count": null,
      "id": "e4e8dd43-3cb7-432a-b841-3b5ae044e766",
      "metadata": {
        "id": "e4e8dd43-3cb7-432a-b841-3b5ae044e766"
      },
      "outputs": [],
      "source": [
        "sns.heatmap(wineQ.isnull(),yticklabels=False,cbar=False,cmap='viridis')"
      ]
    },
    {
      "cell_type": "markdown",
      "id": "1a565bc2-930c-4cd2-a0d9-21e11eff41ce",
      "metadata": {
        "id": "1a565bc2-930c-4cd2-a0d9-21e11eff41ce"
      },
      "source": [
        "Make a representation of the all the relations between all the variables in the dataset.\n",
        "\n",
        "> Hint: [`pairplot`](https://seaborn.pydata.org/generated/seaborn.pairplot.html)"
      ]
    },
    {
      "cell_type": "code",
      "execution_count": null,
      "id": "d5f98f73-910c-4db9-be4a-acd0e0d6ce03",
      "metadata": {
        "id": "d5f98f73-910c-4db9-be4a-acd0e0d6ce03"
      },
      "outputs": [],
      "source": []
    },
    {
      "cell_type": "markdown",
      "id": "50335bb1-3e09-410e-8693-56bee5fc8e54",
      "metadata": {
        "id": "50335bb1-3e09-410e-8693-56bee5fc8e54"
      },
      "source": [
        "Also check the distribution of the quality variable using [`displot`](https://seaborn.pydata.org/generated/seaborn.displot.html)"
      ]
    },
    {
      "cell_type": "code",
      "execution_count": null,
      "id": "f0684c61-7286-4692-b9af-c39abe540118",
      "metadata": {
        "id": "f0684c61-7286-4692-b9af-c39abe540118"
      },
      "outputs": [],
      "source": []
    },
    {
      "cell_type": "markdown",
      "id": "ab4d1b2f-924c-4f18-8960-26a85aed7ac2",
      "metadata": {
        "id": "ab4d1b2f-924c-4f18-8960-26a85aed7ac2"
      },
      "source": [
        "For better understanding, you can check the relation between two variables here.\n",
        "Try to build a [`scatterplot`](https://seaborn.pydata.org/generated/seaborn.scatterplot.html) chart visualizing the following variables:\n",
        "\n",
        "> alcohol vs. density\n",
        ">\n",
        "> fixed acidity vs. density"
      ]
    },
    {
      "cell_type": "code",
      "execution_count": null,
      "id": "4b7505f1-abd1-4b6a-b3cf-b5c1bcf4b6d9",
      "metadata": {
        "id": "4b7505f1-abd1-4b6a-b3cf-b5c1bcf4b6d9"
      },
      "outputs": [],
      "source": []
    },
    {
      "cell_type": "markdown",
      "id": "3b851ccd-3fba-4cb5-8569-a20d3dae9f06",
      "metadata": {
        "id": "3b851ccd-3fba-4cb5-8569-a20d3dae9f06"
      },
      "source": [
        "Check the correlation between variables using [`corr`](https://pandas.pydata.org/pandas-docs/stable/reference/api/pandas.DataFrame.corr.html) and ploting them in a [`heatmap`](https://seaborn.pydata.org/generated/seaborn.heatmap.html)"
      ]
    },
    {
      "cell_type": "code",
      "execution_count": null,
      "id": "5aedf7cd-fae8-4a8d-975d-96220da2efa0",
      "metadata": {
        "id": "5aedf7cd-fae8-4a8d-975d-96220da2efa0"
      },
      "outputs": [],
      "source": []
    },
    {
      "cell_type": "markdown",
      "id": "bd87183c-8c71-453a-860b-71452feb1004",
      "metadata": {
        "id": "bd87183c-8c71-453a-860b-71452feb1004"
      },
      "source": [
        "## Training the model"
      ]
    },
    {
      "cell_type": "markdown",
      "id": "cee1360e-2420-4102-ae57-1d72807b7d2d",
      "metadata": {
        "id": "cee1360e-2420-4102-ae57-1d72807b7d2d"
      },
      "source": [
        "First, separate the independent variables from the dependent variable"
      ]
    },
    {
      "cell_type": "code",
      "execution_count": null,
      "id": "eb7daf24-7184-4ce1-9d72-3a7754f80583",
      "metadata": {
        "id": "eb7daf24-7184-4ce1-9d72-3a7754f80583"
      },
      "outputs": [],
      "source": [
        "x =\n",
        "y ="
      ]
    },
    {
      "cell_type": "markdown",
      "id": "6b5753d3-0695-447f-9c00-70a8e4e47d16",
      "metadata": {
        "id": "6b5753d3-0695-447f-9c00-70a8e4e47d16"
      },
      "source": [
        "Further separate the dataset in two: one for training and one for testing, with the later corresponding to 30% of the total size."
      ]
    },
    {
      "cell_type": "code",
      "execution_count": null,
      "id": "241ad25a-bfc6-415f-a484-cede1380a65e",
      "metadata": {
        "id": "241ad25a-bfc6-415f-a484-cede1380a65e"
      },
      "outputs": [],
      "source": [
        "from sklearn.model_selection import train_test_split\n",
        "x_train, x_test, y_train, y_test ="
      ]
    },
    {
      "cell_type": "markdown",
      "id": "b68472ec-b94c-4a3e-b983-87ade56bb014",
      "metadata": {
        "id": "b68472ec-b94c-4a3e-b983-87ade56bb014"
      },
      "source": [
        "Now, perform the training:"
      ]
    },
    {
      "cell_type": "code",
      "execution_count": null,
      "id": "1c442a31-0004-47cb-b431-3e1f2d70ef09",
      "metadata": {
        "id": "1c442a31-0004-47cb-b431-3e1f2d70ef09"
      },
      "outputs": [],
      "source": [
        "from sklearn.linear_model import LinearRegression\n",
        "lm = LinearRegression()\n",
        "# ..."
      ]
    },
    {
      "cell_type": "markdown",
      "id": "aea8163b-fe63-4159-a87b-e5a5eb052ee9",
      "metadata": {
        "id": "aea8163b-fe63-4159-a87b-e5a5eb052ee9"
      },
      "source": [
        "Print the intercept and coefficients. What do you think is the shape of the `coef_` property? and the `intercept_`?"
      ]
    },
    {
      "cell_type": "code",
      "execution_count": null,
      "id": "5d5510f9-dccb-4e57-abb3-7674d099c0a4",
      "metadata": {
        "id": "5d5510f9-dccb-4e57-abb3-7674d099c0a4"
      },
      "outputs": [],
      "source": []
    },
    {
      "cell_type": "markdown",
      "id": "a71f9aec-e272-4205-824a-897ac2f11444",
      "metadata": {
        "id": "a71f9aec-e272-4205-824a-897ac2f11444"
      },
      "source": [
        "Calculate the predictions based on the `x_test` set."
      ]
    },
    {
      "cell_type": "code",
      "execution_count": null,
      "id": "9b9eb857-0743-4c8d-a313-f7ea34575ca2",
      "metadata": {
        "id": "9b9eb857-0743-4c8d-a313-f7ea34575ca2"
      },
      "outputs": [],
      "source": [
        "predictions ="
      ]
    },
    {
      "cell_type": "code",
      "execution_count": null,
      "id": "c9e85c2e-3fd0-479f-982e-b0818f587034",
      "metadata": {
        "id": "c9e85c2e-3fd0-479f-982e-b0818f587034"
      },
      "outputs": [],
      "source": [
        "import matplotlib.pyplot as plt\n",
        "%matplotlib inline\n",
        "plt.scatter(y_test,predictions)"
      ]
    },
    {
      "cell_type": "markdown",
      "id": "69ec4e8a-f5e9-402d-bb7a-5817a3ff56b1",
      "metadata": {
        "id": "69ec4e8a-f5e9-402d-bb7a-5817a3ff56b1"
      },
      "source": [
        "## Some quality metrics can also be calculated"
      ]
    },
    {
      "cell_type": "code",
      "execution_count": null,
      "id": "a873c441-24fc-4cdf-8486-7c79cdd616b6",
      "metadata": {
        "id": "a873c441-24fc-4cdf-8486-7c79cdd616b6"
      },
      "outputs": [],
      "source": [
        "from sklearn import metrics\n",
        "import numpy as np"
      ]
    },
    {
      "cell_type": "code",
      "execution_count": null,
      "id": "602bf1e4-ed6f-4d5d-9470-ef9e647e5095",
      "metadata": {
        "id": "602bf1e4-ed6f-4d5d-9470-ef9e647e5095"
      },
      "outputs": [],
      "source": [
        "print('MAE:', metrics.mean_absolute_error(y_test, predictions))\n",
        "print('MSE:', metrics.mean_squared_error(y_test, predictions))\n",
        "print('RMSE:', np.sqrt(metrics.mean_squared_error(y_test, predictions)))"
      ]
    },
    {
      "cell_type": "code",
      "execution_count": null,
      "id": "482b8a64-aeeb-4be2-be08-8dca31f67584",
      "metadata": {
        "id": "482b8a64-aeeb-4be2-be08-8dca31f67584"
      },
      "outputs": [],
      "source": [
        "print('R sq: ',lm.score(x_train,y_train))"
      ]
    },
    {
      "cell_type": "code",
      "execution_count": null,
      "id": "9fa89e73-95c0-492c-998f-1599e424fcbf",
      "metadata": {
        "id": "9fa89e73-95c0-492c-998f-1599e424fcbf"
      },
      "outputs": [],
      "source": [
        "import math\n",
        "print('Correlation: ', math.sqrt(lm.score(x_train,y_train)))"
      ]
    },
    {
      "cell_type": "code",
      "execution_count": null,
      "id": "de68d7bb-9277-42f1-b053-3f6f627fba56",
      "metadata": {
        "id": "de68d7bb-9277-42f1-b053-3f6f627fba56"
      },
      "outputs": [],
      "source": [
        "y_predicted = lm.predict(x_test)\n",
        "\n",
        "plt.title('Comparison of Y values in test and the Predicted values')\n",
        "plt.ylabel('Test Set')\n",
        "plt.xlabel('Predicted values')\n",
        "plt.scatter(y_predicted, y_test,  color='black')\n",
        "plt.show()"
      ]
    }
  ],
  "metadata": {
    "kernelspec": {
      "display_name": "Python 3 (ipykernel)",
      "language": "python",
      "name": "python3"
    },
    "language_info": {
      "codemirror_mode": {
        "name": "ipython",
        "version": 3
      },
      "file_extension": ".py",
      "mimetype": "text/x-python",
      "name": "python",
      "nbconvert_exporter": "python",
      "pygments_lexer": "ipython3",
      "version": "3.9.6"
    },
    "colab": {
      "provenance": []
    }
  },
  "nbformat": 4,
  "nbformat_minor": 5
}